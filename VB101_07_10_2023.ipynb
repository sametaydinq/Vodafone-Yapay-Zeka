{
 "cells": [
  {
   "cell_type": "markdown",
   "id": "01dd23c5-cb65-4141-ab26-c14bf1532882",
   "metadata": {},
   "source": [
    "# Series Veri Yapısı"
   ]
  },
  {
   "cell_type": "code",
   "execution_count": 1,
   "id": "408683fa-06f1-4d57-95b9-b77e2ec878f9",
   "metadata": {},
   "outputs": [],
   "source": [
    "import pandas as pd "
   ]
  },
  {
   "cell_type": "code",
   "execution_count": 2,
   "id": "4b21fbb4-1bcf-41d2-a548-a04ddadec05e",
   "metadata": {},
   "outputs": [],
   "source": [
    "abc = pd.Series([18,\"Ali\",3.94,\"Veli\"])"
   ]
  },
  {
   "cell_type": "code",
   "execution_count": 3,
   "id": "ac8691b4-3e8b-4a53-9b85-9de1e2d075ac",
   "metadata": {},
   "outputs": [
    {
     "data": {
      "text/plain": [
       "0      18\n",
       "1     Ali\n",
       "2    3.94\n",
       "3    Veli\n",
       "dtype: object"
      ]
     },
     "execution_count": 3,
     "metadata": {},
     "output_type": "execute_result"
    }
   ],
   "source": [
    "abc"
   ]
  },
  {
   "cell_type": "code",
   "execution_count": 4,
   "id": "b4e67677-cafe-4e6b-bc12-2a6917412b63",
   "metadata": {},
   "outputs": [
    {
     "data": {
      "text/plain": [
       "'Veli'"
      ]
     },
     "execution_count": 4,
     "metadata": {},
     "output_type": "execute_result"
    }
   ],
   "source": [
    "abc[3]"
   ]
  },
  {
   "cell_type": "code",
   "execution_count": 6,
   "id": "7329f78a-56e8-40e5-8b30-4e9ff62bcb9a",
   "metadata": {},
   "outputs": [
    {
     "data": {
      "text/plain": [
       "array([18, 'Ali', 3.94, 'Veli'], dtype=object)"
      ]
     },
     "execution_count": 6,
     "metadata": {},
     "output_type": "execute_result"
    }
   ],
   "source": [
    "abc.values"
   ]
  },
  {
   "cell_type": "code",
   "execution_count": 7,
   "id": "c98cc2a1-e7ab-4dbc-ba41-76c51506be26",
   "metadata": {},
   "outputs": [
    {
     "data": {
      "text/plain": [
       "x      18\n",
       "y     Ali\n",
       "z    3.94\n",
       "t    Veli\n",
       "dtype: object"
      ]
     },
     "execution_count": 7,
     "metadata": {},
     "output_type": "execute_result"
    }
   ],
   "source": [
    "abc = pd.Series([18,\"Ali\",3.94,\"Veli\"], index=[\"x\",\"y\",\"z\",\"t\"])\n",
    "abc"
   ]
  },
  {
   "cell_type": "code",
   "execution_count": 9,
   "id": "a57eda6f-ebad-458d-80a2-137e2fa839da",
   "metadata": {},
   "outputs": [
    {
     "data": {
      "text/plain": [
       "18"
      ]
     },
     "execution_count": 9,
     "metadata": {},
     "output_type": "execute_result"
    }
   ],
   "source": [
    "abc[\"x\"]"
   ]
  },
  {
   "cell_type": "code",
   "execution_count": 10,
   "id": "6aa38919-797f-4f28-b47d-cdeed2d5b1d2",
   "metadata": {},
   "outputs": [
    {
     "data": {
      "text/plain": [
       "Index(['x', 'y', 'z', 't'], dtype='object')"
      ]
     },
     "execution_count": 10,
     "metadata": {},
     "output_type": "execute_result"
    }
   ],
   "source": [
    "abc.index"
   ]
  },
  {
   "cell_type": "code",
   "execution_count": 36,
   "id": "e4beecff-f144-4f19-b0cb-e64e635960a9",
   "metadata": {},
   "outputs": [],
   "source": [
    "# Liste, tuple, Sözlük tipindeki veri yapıları Series Veri yapısına dönüştürülebilir.\n",
    "\n",
    "fiyatlar = {\"Kazak\": 350, \"Pantolon\": 600, \"Gömlek\": 400, \"tişört\": 150}\n",
    "sozlukseries = pd.Series(fiyatlar)"
   ]
  },
  {
   "cell_type": "code",
   "execution_count": 30,
   "id": "a1776386-d06d-4b76-965e-9076bf336a12",
   "metadata": {},
   "outputs": [
    {
     "data": {
      "text/plain": [
       "Kazak       350\n",
       "Pantolon    600\n",
       "Gömlek      400\n",
       "tişört      150\n",
       "dtype: int64"
      ]
     },
     "execution_count": 30,
     "metadata": {},
     "output_type": "execute_result"
    }
   ],
   "source": [
    "sozlukseries"
   ]
  },
  {
   "cell_type": "code",
   "execution_count": 31,
   "id": "a0f8bab4-25f9-493d-9c3a-1192f080f1d4",
   "metadata": {},
   "outputs": [
    {
     "data": {
      "text/plain": [
       "350"
      ]
     },
     "execution_count": 31,
     "metadata": {},
     "output_type": "execute_result"
    }
   ],
   "source": [
    "sozlukseries[\"Kazak\"]"
   ]
  },
  {
   "cell_type": "code",
   "execution_count": 32,
   "id": "825f96c9-a4de-49ec-870f-6989d3c80dbd",
   "metadata": {},
   "outputs": [
    {
     "data": {
      "text/plain": [
       "Kazak       350\n",
       "Pantolon    600\n",
       "Gömlek      400\n",
       "dtype: int64"
      ]
     },
     "execution_count": 32,
     "metadata": {},
     "output_type": "execute_result"
    }
   ],
   "source": [
    "sozlukseries[sozlukseries>300]"
   ]
  },
  {
   "cell_type": "code",
   "execution_count": 33,
   "id": "a2544b53-dbe3-439a-ae67-8c69119e6cab",
   "metadata": {},
   "outputs": [
    {
     "data": {
      "text/plain": [
       "Kazak       False\n",
       "Pantolon    False\n",
       "Gömlek      False\n",
       "tişört       True\n",
       "dtype: bool"
      ]
     },
     "execution_count": 33,
     "metadata": {},
     "output_type": "execute_result"
    }
   ],
   "source": [
    "sozlukseries<300"
   ]
  },
  {
   "cell_type": "code",
   "execution_count": 34,
   "id": "a04c2595-40bc-4b15-b1a1-4db1237947ba",
   "metadata": {},
   "outputs": [],
   "source": [
    "sozlukseries[\"Kazak\"] = 135"
   ]
  },
  {
   "cell_type": "code",
   "execution_count": 35,
   "id": "b529aa2b-5060-4452-93f3-94789f060503",
   "metadata": {},
   "outputs": [
    {
     "data": {
      "text/plain": [
       "Kazak       135\n",
       "Pantolon    600\n",
       "Gömlek      400\n",
       "tişört      150\n",
       "dtype: int64"
      ]
     },
     "execution_count": 35,
     "metadata": {},
     "output_type": "execute_result"
    }
   ],
   "source": [
    "sozlukseries"
   ]
  },
  {
   "cell_type": "code",
   "execution_count": 37,
   "id": "5f232ec0-67f4-4afe-9443-3596b7fb4c97",
   "metadata": {},
   "outputs": [
    {
     "data": {
      "text/plain": [
       "0    12\n",
       "1    15\n",
       "2    40\n",
       "3    60\n",
       "dtype: int64"
      ]
     },
     "execution_count": 37,
     "metadata": {},
     "output_type": "execute_result"
    }
   ],
   "source": [
    "sr = pd.Series([12,15,40,60])\n",
    "sr"
   ]
  },
  {
   "cell_type": "code",
   "execution_count": 38,
   "id": "b8b3c2ae-cfe7-40ee-918f-60b5056ac438",
   "metadata": {},
   "outputs": [
    {
     "data": {
      "text/plain": [
       "0     24\n",
       "1     30\n",
       "2     80\n",
       "3    120\n",
       "dtype: int64"
      ]
     },
     "execution_count": 38,
     "metadata": {},
     "output_type": "execute_result"
    }
   ],
   "source": [
    "sr *2"
   ]
  },
  {
   "cell_type": "code",
   "execution_count": 39,
   "id": "4f6d382f-133b-40be-9ea4-ba1f2ff08034",
   "metadata": {},
   "outputs": [
    {
     "data": {
      "text/plain": [
       "0     144\n",
       "1     225\n",
       "2    1600\n",
       "3    3600\n",
       "dtype: int64"
      ]
     },
     "execution_count": 39,
     "metadata": {},
     "output_type": "execute_result"
    }
   ],
   "source": [
    "sr ** 2"
   ]
  },
  {
   "cell_type": "code",
   "execution_count": 41,
   "id": "355198a8-0171-4def-b656-27e87fc7f3bb",
   "metadata": {},
   "outputs": [
    {
     "data": {
      "text/plain": [
       "0     6.0\n",
       "1     7.5\n",
       "2    20.0\n",
       "3    30.0\n",
       "dtype: float64"
      ]
     },
     "execution_count": 41,
     "metadata": {},
     "output_type": "execute_result"
    }
   ],
   "source": [
    "sr / 2"
   ]
  },
  {
   "cell_type": "code",
   "execution_count": 42,
   "id": "b8113f9c-3f15-4b08-8c55-086352aabf79",
   "metadata": {},
   "outputs": [
    {
     "data": {
      "text/plain": [
       "0    False\n",
       "1    False\n",
       "2    False\n",
       "3    False\n",
       "dtype: bool"
      ]
     },
     "execution_count": 42,
     "metadata": {},
     "output_type": "execute_result"
    }
   ],
   "source": [
    "sr.isnull() #eksik veri olup olmadığını kontrol eder."
   ]
  },
  {
   "cell_type": "markdown",
   "id": "b4222702-d8fa-4f83-ba48-ea698b8fd4ff",
   "metadata": {},
   "source": [
    "# DataFrame Veri Yapısı"
   ]
  },
  {
   "cell_type": "code",
   "execution_count": 44,
   "id": "e1dd6f5d-a4c2-4f31-80d0-5771b8e2f122",
   "metadata": {},
   "outputs": [
    {
     "data": {
      "text/html": [
       "<div>\n",
       "<style scoped>\n",
       "    .dataframe tbody tr th:only-of-type {\n",
       "        vertical-align: middle;\n",
       "    }\n",
       "\n",
       "    .dataframe tbody tr th {\n",
       "        vertical-align: top;\n",
       "    }\n",
       "\n",
       "    .dataframe thead th {\n",
       "        text-align: right;\n",
       "    }\n",
       "</style>\n",
       "<table border=\"1\" class=\"dataframe\">\n",
       "  <thead>\n",
       "    <tr style=\"text-align: right;\">\n",
       "      <th></th>\n",
       "      <th>urun_kategori</th>\n",
       "      <th>fıyatlar</th>\n",
       "      <th>urun_adi</th>\n",
       "    </tr>\n",
       "  </thead>\n",
       "  <tbody>\n",
       "    <tr>\n",
       "      <th>0</th>\n",
       "      <td>Kıyafet</td>\n",
       "      <td>105</td>\n",
       "      <td>Kazak</td>\n",
       "    </tr>\n",
       "    <tr>\n",
       "      <th>1</th>\n",
       "      <td>Kozmetik</td>\n",
       "      <td>250</td>\n",
       "      <td>Parfüm</td>\n",
       "    </tr>\n",
       "    <tr>\n",
       "      <th>2</th>\n",
       "      <td>Temizlik</td>\n",
       "      <td>400</td>\n",
       "      <td>Deterjan</td>\n",
       "    </tr>\n",
       "    <tr>\n",
       "      <th>3</th>\n",
       "      <td>elektronik</td>\n",
       "      <td>1200</td>\n",
       "      <td>Telefon</td>\n",
       "    </tr>\n",
       "    <tr>\n",
       "      <th>4</th>\n",
       "      <td>bahce ürünleri</td>\n",
       "      <td>3650</td>\n",
       "      <td>Hortum</td>\n",
       "    </tr>\n",
       "    <tr>\n",
       "      <th>5</th>\n",
       "      <td>ayakkabı</td>\n",
       "      <td>800</td>\n",
       "      <td>Spor ayakkabı</td>\n",
       "    </tr>\n",
       "    <tr>\n",
       "      <th>6</th>\n",
       "      <td>mobilya</td>\n",
       "      <td>32000</td>\n",
       "      <td>Koltuk</td>\n",
       "    </tr>\n",
       "  </tbody>\n",
       "</table>\n",
       "</div>"
      ],
      "text/plain": [
       "    urun_kategori  fıyatlar       urun_adi\n",
       "0         Kıyafet       105          Kazak\n",
       "1        Kozmetik       250         Parfüm\n",
       "2        Temizlik       400       Deterjan\n",
       "3      elektronik      1200        Telefon\n",
       "4  bahce ürünleri      3650         Hortum\n",
       "5        ayakkabı       800  Spor ayakkabı\n",
       "6         mobilya     32000         Koltuk"
      ]
     },
     "execution_count": 44,
     "metadata": {},
     "output_type": "execute_result"
    }
   ],
   "source": [
    "dtfrm = {\"urun_kategori\":[\"Kıyafet\",\"Kozmetik\",\"Temizlik\",\"elektronik\",\"bahce ürünleri\",\"ayakkabı\",\"mobilya\"],\n",
    "        \"fıyatlar\": [105,250,400,1200,3650,800,32000],\n",
    "        \"urun_adi\":[\"Kazak\",\"Parfüm\",\"Deterjan\",\"Telefon\",\"Hortum\",\"Spor ayakkabı\",\"Koltuk\"]}\n",
    "df = pd.DataFrame(dtfrm)\n",
    "df"
   ]
  },
  {
   "cell_type": "code",
   "execution_count": 47,
   "id": "d68b17b5-d16c-4580-8bdc-36d81c1647ab",
   "metadata": {},
   "outputs": [
    {
     "data": {
      "text/html": [
       "<div>\n",
       "<style scoped>\n",
       "    .dataframe tbody tr th:only-of-type {\n",
       "        vertical-align: middle;\n",
       "    }\n",
       "\n",
       "    .dataframe tbody tr th {\n",
       "        vertical-align: top;\n",
       "    }\n",
       "\n",
       "    .dataframe thead th {\n",
       "        text-align: right;\n",
       "    }\n",
       "</style>\n",
       "<table border=\"1\" class=\"dataframe\">\n",
       "  <thead>\n",
       "    <tr style=\"text-align: right;\">\n",
       "      <th></th>\n",
       "      <th>urun_kategori</th>\n",
       "      <th>fıyatlar</th>\n",
       "      <th>urun_adi</th>\n",
       "    </tr>\n",
       "  </thead>\n",
       "  <tbody>\n",
       "    <tr>\n",
       "      <th>0</th>\n",
       "      <td>Kıyafet</td>\n",
       "      <td>105</td>\n",
       "      <td>Kazak</td>\n",
       "    </tr>\n",
       "    <tr>\n",
       "      <th>1</th>\n",
       "      <td>Kozmetik</td>\n",
       "      <td>250</td>\n",
       "      <td>Parfüm</td>\n",
       "    </tr>\n",
       "    <tr>\n",
       "      <th>2</th>\n",
       "      <td>Temizlik</td>\n",
       "      <td>400</td>\n",
       "      <td>Deterjan</td>\n",
       "    </tr>\n",
       "    <tr>\n",
       "      <th>3</th>\n",
       "      <td>elektronik</td>\n",
       "      <td>1200</td>\n",
       "      <td>Telefon</td>\n",
       "    </tr>\n",
       "    <tr>\n",
       "      <th>4</th>\n",
       "      <td>bahce ürünleri</td>\n",
       "      <td>3650</td>\n",
       "      <td>Hortum</td>\n",
       "    </tr>\n",
       "  </tbody>\n",
       "</table>\n",
       "</div>"
      ],
      "text/plain": [
       "    urun_kategori  fıyatlar  urun_adi\n",
       "0         Kıyafet       105     Kazak\n",
       "1        Kozmetik       250    Parfüm\n",
       "2        Temizlik       400  Deterjan\n",
       "3      elektronik      1200   Telefon\n",
       "4  bahce ürünleri      3650    Hortum"
      ]
     },
     "execution_count": 47,
     "metadata": {},
     "output_type": "execute_result"
    }
   ],
   "source": [
    "df.head() "
   ]
  },
  {
   "cell_type": "code",
   "execution_count": 49,
   "id": "f3212c28-f998-409a-8585-72606e4dfc1a",
   "metadata": {},
   "outputs": [
    {
     "data": {
      "text/html": [
       "<div>\n",
       "<style scoped>\n",
       "    .dataframe tbody tr th:only-of-type {\n",
       "        vertical-align: middle;\n",
       "    }\n",
       "\n",
       "    .dataframe tbody tr th {\n",
       "        vertical-align: top;\n",
       "    }\n",
       "\n",
       "    .dataframe thead th {\n",
       "        text-align: right;\n",
       "    }\n",
       "</style>\n",
       "<table border=\"1\" class=\"dataframe\">\n",
       "  <thead>\n",
       "    <tr style=\"text-align: right;\">\n",
       "      <th></th>\n",
       "      <th>urun_kategori</th>\n",
       "      <th>fıyatlar</th>\n",
       "      <th>urun_adi</th>\n",
       "    </tr>\n",
       "  </thead>\n",
       "  <tbody>\n",
       "    <tr>\n",
       "      <th>5</th>\n",
       "      <td>ayakkabı</td>\n",
       "      <td>800</td>\n",
       "      <td>Spor ayakkabı</td>\n",
       "    </tr>\n",
       "    <tr>\n",
       "      <th>6</th>\n",
       "      <td>mobilya</td>\n",
       "      <td>32000</td>\n",
       "      <td>Koltuk</td>\n",
       "    </tr>\n",
       "  </tbody>\n",
       "</table>\n",
       "</div>"
      ],
      "text/plain": [
       "  urun_kategori  fıyatlar       urun_adi\n",
       "5      ayakkabı       800  Spor ayakkabı\n",
       "6       mobilya     32000         Koltuk"
      ]
     },
     "execution_count": 49,
     "metadata": {},
     "output_type": "execute_result"
    }
   ],
   "source": [
    "df.tail(2)"
   ]
  },
  {
   "cell_type": "code",
   "execution_count": 61,
   "id": "ad104a70-222c-45cc-8fe4-513639d9f820",
   "metadata": {},
   "outputs": [],
   "source": [
    "df=pd.DataFrame(dtfrm, columns=[\"urun_kategori\",\"urun_adi\",\"fıyatlar\",\"urun_miktari\"],\n",
    "               index=[\"bir\",\"iki\",\"uc\",\"dort\",\"bes\",\"alti\",\"yedi\"])"
   ]
  },
  {
   "cell_type": "code",
   "execution_count": 62,
   "id": "3e72a5ee-91fd-4ebc-ad29-ec09bec04686",
   "metadata": {},
   "outputs": [
    {
     "data": {
      "text/html": [
       "<div>\n",
       "<style scoped>\n",
       "    .dataframe tbody tr th:only-of-type {\n",
       "        vertical-align: middle;\n",
       "    }\n",
       "\n",
       "    .dataframe tbody tr th {\n",
       "        vertical-align: top;\n",
       "    }\n",
       "\n",
       "    .dataframe thead th {\n",
       "        text-align: right;\n",
       "    }\n",
       "</style>\n",
       "<table border=\"1\" class=\"dataframe\">\n",
       "  <thead>\n",
       "    <tr style=\"text-align: right;\">\n",
       "      <th></th>\n",
       "      <th>urun_kategori</th>\n",
       "      <th>urun_adi</th>\n",
       "      <th>fıyatlar</th>\n",
       "      <th>urun_miktari</th>\n",
       "    </tr>\n",
       "  </thead>\n",
       "  <tbody>\n",
       "    <tr>\n",
       "      <th>bir</th>\n",
       "      <td>Kıyafet</td>\n",
       "      <td>Kazak</td>\n",
       "      <td>105</td>\n",
       "      <td>NaN</td>\n",
       "    </tr>\n",
       "    <tr>\n",
       "      <th>iki</th>\n",
       "      <td>Kozmetik</td>\n",
       "      <td>Parfüm</td>\n",
       "      <td>250</td>\n",
       "      <td>NaN</td>\n",
       "    </tr>\n",
       "    <tr>\n",
       "      <th>uc</th>\n",
       "      <td>Temizlik</td>\n",
       "      <td>Deterjan</td>\n",
       "      <td>400</td>\n",
       "      <td>NaN</td>\n",
       "    </tr>\n",
       "    <tr>\n",
       "      <th>dort</th>\n",
       "      <td>elektronik</td>\n",
       "      <td>Telefon</td>\n",
       "      <td>1200</td>\n",
       "      <td>NaN</td>\n",
       "    </tr>\n",
       "    <tr>\n",
       "      <th>bes</th>\n",
       "      <td>bahce ürünleri</td>\n",
       "      <td>Hortum</td>\n",
       "      <td>3650</td>\n",
       "      <td>NaN</td>\n",
       "    </tr>\n",
       "    <tr>\n",
       "      <th>alti</th>\n",
       "      <td>ayakkabı</td>\n",
       "      <td>Spor ayakkabı</td>\n",
       "      <td>800</td>\n",
       "      <td>NaN</td>\n",
       "    </tr>\n",
       "    <tr>\n",
       "      <th>yedi</th>\n",
       "      <td>mobilya</td>\n",
       "      <td>Koltuk</td>\n",
       "      <td>32000</td>\n",
       "      <td>NaN</td>\n",
       "    </tr>\n",
       "  </tbody>\n",
       "</table>\n",
       "</div>"
      ],
      "text/plain": [
       "       urun_kategori       urun_adi  fıyatlar urun_miktari\n",
       "bir          Kıyafet          Kazak       105          NaN\n",
       "iki         Kozmetik         Parfüm       250          NaN\n",
       "uc          Temizlik       Deterjan       400          NaN\n",
       "dort      elektronik        Telefon      1200          NaN\n",
       "bes   bahce ürünleri         Hortum      3650          NaN\n",
       "alti        ayakkabı  Spor ayakkabı       800          NaN\n",
       "yedi         mobilya         Koltuk     32000          NaN"
      ]
     },
     "execution_count": 62,
     "metadata": {},
     "output_type": "execute_result"
    }
   ],
   "source": [
    "df"
   ]
  },
  {
   "cell_type": "code",
   "execution_count": 63,
   "id": "49a4cac9-69a8-410c-b980-f2584aa4b217",
   "metadata": {},
   "outputs": [
    {
     "data": {
      "text/plain": [
       "bir             Kazak\n",
       "iki            Parfüm\n",
       "uc           Deterjan\n",
       "dort          Telefon\n",
       "bes            Hortum\n",
       "alti    Spor ayakkabı\n",
       "yedi           Koltuk\n",
       "Name: urun_adi, dtype: object"
      ]
     },
     "execution_count": 63,
     "metadata": {},
     "output_type": "execute_result"
    }
   ],
   "source": [
    "df[\"urun_adi\"]"
   ]
  },
  {
   "cell_type": "code",
   "execution_count": 64,
   "id": "de410723-e0b3-4877-8a63-518525ef39d1",
   "metadata": {},
   "outputs": [],
   "source": [
    "sutunlarım=[\"urun_adi\",\"fıyatlar\"]"
   ]
  },
  {
   "cell_type": "code",
   "execution_count": 65,
   "id": "011499af-6253-4a65-a8ad-dbf0630a07e2",
   "metadata": {},
   "outputs": [
    {
     "data": {
      "text/html": [
       "<div>\n",
       "<style scoped>\n",
       "    .dataframe tbody tr th:only-of-type {\n",
       "        vertical-align: middle;\n",
       "    }\n",
       "\n",
       "    .dataframe tbody tr th {\n",
       "        vertical-align: top;\n",
       "    }\n",
       "\n",
       "    .dataframe thead th {\n",
       "        text-align: right;\n",
       "    }\n",
       "</style>\n",
       "<table border=\"1\" class=\"dataframe\">\n",
       "  <thead>\n",
       "    <tr style=\"text-align: right;\">\n",
       "      <th></th>\n",
       "      <th>urun_adi</th>\n",
       "      <th>fıyatlar</th>\n",
       "    </tr>\n",
       "  </thead>\n",
       "  <tbody>\n",
       "    <tr>\n",
       "      <th>bir</th>\n",
       "      <td>Kazak</td>\n",
       "      <td>105</td>\n",
       "    </tr>\n",
       "    <tr>\n",
       "      <th>iki</th>\n",
       "      <td>Parfüm</td>\n",
       "      <td>250</td>\n",
       "    </tr>\n",
       "    <tr>\n",
       "      <th>uc</th>\n",
       "      <td>Deterjan</td>\n",
       "      <td>400</td>\n",
       "    </tr>\n",
       "    <tr>\n",
       "      <th>dort</th>\n",
       "      <td>Telefon</td>\n",
       "      <td>1200</td>\n",
       "    </tr>\n",
       "    <tr>\n",
       "      <th>bes</th>\n",
       "      <td>Hortum</td>\n",
       "      <td>3650</td>\n",
       "    </tr>\n",
       "    <tr>\n",
       "      <th>alti</th>\n",
       "      <td>Spor ayakkabı</td>\n",
       "      <td>800</td>\n",
       "    </tr>\n",
       "    <tr>\n",
       "      <th>yedi</th>\n",
       "      <td>Koltuk</td>\n",
       "      <td>32000</td>\n",
       "    </tr>\n",
       "  </tbody>\n",
       "</table>\n",
       "</div>"
      ],
      "text/plain": [
       "           urun_adi  fıyatlar\n",
       "bir           Kazak       105\n",
       "iki          Parfüm       250\n",
       "uc         Deterjan       400\n",
       "dort        Telefon      1200\n",
       "bes          Hortum      3650\n",
       "alti  Spor ayakkabı       800\n",
       "yedi         Koltuk     32000"
      ]
     },
     "execution_count": 65,
     "metadata": {},
     "output_type": "execute_result"
    }
   ],
   "source": [
    "df[sutunlarım]"
   ]
  },
  {
   "cell_type": "code",
   "execution_count": 68,
   "id": "ce61487e-9a70-4596-a161-4fd18cf20431",
   "metadata": {},
   "outputs": [
    {
     "data": {
      "text/plain": [
       "bir       105\n",
       "iki       250\n",
       "uc        400\n",
       "dort     1200\n",
       "bes      3650\n",
       "alti      800\n",
       "yedi    32000\n",
       "Name: fıyatlar, dtype: int64"
      ]
     },
     "execution_count": 68,
     "metadata": {},
     "output_type": "execute_result"
    }
   ],
   "source": [
    "df.fıyatlar"
   ]
  },
  {
   "cell_type": "code",
   "execution_count": 71,
   "id": "4909f8bf-42ca-4e2c-bff2-e267c1fccd89",
   "metadata": {},
   "outputs": [
    {
     "data": {
      "text/plain": [
       "'2.0.2'"
      ]
     },
     "execution_count": 71,
     "metadata": {},
     "output_type": "execute_result"
    }
   ],
   "source": [
    "pd.__version__"
   ]
  },
  {
   "cell_type": "code",
   "execution_count": 72,
   "id": "9a1a1d68-5587-4511-9d55-3108b1fba618",
   "metadata": {},
   "outputs": [
    {
     "data": {
      "text/html": [
       "<div>\n",
       "<style scoped>\n",
       "    .dataframe tbody tr th:only-of-type {\n",
       "        vertical-align: middle;\n",
       "    }\n",
       "\n",
       "    .dataframe tbody tr th {\n",
       "        vertical-align: top;\n",
       "    }\n",
       "\n",
       "    .dataframe thead th {\n",
       "        text-align: right;\n",
       "    }\n",
       "</style>\n",
       "<table border=\"1\" class=\"dataframe\">\n",
       "  <thead>\n",
       "    <tr style=\"text-align: right;\">\n",
       "      <th></th>\n",
       "      <th>urun_kategori</th>\n",
       "      <th>urun_adi</th>\n",
       "      <th>fıyatlar</th>\n",
       "      <th>urun_miktari</th>\n",
       "    </tr>\n",
       "  </thead>\n",
       "  <tbody>\n",
       "    <tr>\n",
       "      <th>bir</th>\n",
       "      <td>Kıyafet</td>\n",
       "      <td>Kazak</td>\n",
       "      <td>105</td>\n",
       "      <td>385</td>\n",
       "    </tr>\n",
       "    <tr>\n",
       "      <th>iki</th>\n",
       "      <td>Kozmetik</td>\n",
       "      <td>Parfüm</td>\n",
       "      <td>250</td>\n",
       "      <td>160</td>\n",
       "    </tr>\n",
       "    <tr>\n",
       "      <th>uc</th>\n",
       "      <td>Temizlik</td>\n",
       "      <td>Deterjan</td>\n",
       "      <td>400</td>\n",
       "      <td>1200</td>\n",
       "    </tr>\n",
       "    <tr>\n",
       "      <th>dort</th>\n",
       "      <td>elektronik</td>\n",
       "      <td>Telefon</td>\n",
       "      <td>1200</td>\n",
       "      <td>800</td>\n",
       "    </tr>\n",
       "    <tr>\n",
       "      <th>bes</th>\n",
       "      <td>bahce ürünleri</td>\n",
       "      <td>Hortum</td>\n",
       "      <td>3650</td>\n",
       "      <td>900</td>\n",
       "    </tr>\n",
       "    <tr>\n",
       "      <th>alti</th>\n",
       "      <td>ayakkabı</td>\n",
       "      <td>Spor ayakkabı</td>\n",
       "      <td>800</td>\n",
       "      <td>4000</td>\n",
       "    </tr>\n",
       "    <tr>\n",
       "      <th>yedi</th>\n",
       "      <td>mobilya</td>\n",
       "      <td>Koltuk</td>\n",
       "      <td>32000</td>\n",
       "      <td>30</td>\n",
       "    </tr>\n",
       "  </tbody>\n",
       "</table>\n",
       "</div>"
      ],
      "text/plain": [
       "       urun_kategori       urun_adi  fıyatlar  urun_miktari\n",
       "bir          Kıyafet          Kazak       105           385\n",
       "iki         Kozmetik         Parfüm       250           160\n",
       "uc          Temizlik       Deterjan       400          1200\n",
       "dort      elektronik        Telefon      1200           800\n",
       "bes   bahce ürünleri         Hortum      3650           900\n",
       "alti        ayakkabı  Spor ayakkabı       800          4000\n",
       "yedi         mobilya         Koltuk     32000            30"
      ]
     },
     "execution_count": 72,
     "metadata": {},
     "output_type": "execute_result"
    }
   ],
   "source": [
    "veriler=[385,160,1200,800,900,4000,30]\n",
    "df[\"urun_miktari\"]=veriler\n",
    "df"
   ]
  },
  {
   "cell_type": "code",
   "execution_count": 73,
   "id": "7f5e9ffe-21cb-4375-a0cd-9ebd2926fcdc",
   "metadata": {},
   "outputs": [
    {
     "data": {
      "text/html": [
       "<div>\n",
       "<style scoped>\n",
       "    .dataframe tbody tr th:only-of-type {\n",
       "        vertical-align: middle;\n",
       "    }\n",
       "\n",
       "    .dataframe tbody tr th {\n",
       "        vertical-align: top;\n",
       "    }\n",
       "\n",
       "    .dataframe thead th {\n",
       "        text-align: right;\n",
       "    }\n",
       "</style>\n",
       "<table border=\"1\" class=\"dataframe\">\n",
       "  <thead>\n",
       "    <tr style=\"text-align: right;\">\n",
       "      <th></th>\n",
       "      <th>urun_kategori</th>\n",
       "      <th>urun_adi</th>\n",
       "      <th>fıyatlar</th>\n",
       "      <th>urun_miktari</th>\n",
       "      <th>indirim</th>\n",
       "    </tr>\n",
       "  </thead>\n",
       "  <tbody>\n",
       "    <tr>\n",
       "      <th>bir</th>\n",
       "      <td>Kıyafet</td>\n",
       "      <td>Kazak</td>\n",
       "      <td>105</td>\n",
       "      <td>385</td>\n",
       "      <td>False</td>\n",
       "    </tr>\n",
       "    <tr>\n",
       "      <th>iki</th>\n",
       "      <td>Kozmetik</td>\n",
       "      <td>Parfüm</td>\n",
       "      <td>250</td>\n",
       "      <td>160</td>\n",
       "      <td>False</td>\n",
       "    </tr>\n",
       "    <tr>\n",
       "      <th>uc</th>\n",
       "      <td>Temizlik</td>\n",
       "      <td>Deterjan</td>\n",
       "      <td>400</td>\n",
       "      <td>1200</td>\n",
       "      <td>False</td>\n",
       "    </tr>\n",
       "    <tr>\n",
       "      <th>dort</th>\n",
       "      <td>elektronik</td>\n",
       "      <td>Telefon</td>\n",
       "      <td>1200</td>\n",
       "      <td>800</td>\n",
       "      <td>True</td>\n",
       "    </tr>\n",
       "    <tr>\n",
       "      <th>bes</th>\n",
       "      <td>bahce ürünleri</td>\n",
       "      <td>Hortum</td>\n",
       "      <td>3650</td>\n",
       "      <td>900</td>\n",
       "      <td>True</td>\n",
       "    </tr>\n",
       "    <tr>\n",
       "      <th>alti</th>\n",
       "      <td>ayakkabı</td>\n",
       "      <td>Spor ayakkabı</td>\n",
       "      <td>800</td>\n",
       "      <td>4000</td>\n",
       "      <td>False</td>\n",
       "    </tr>\n",
       "    <tr>\n",
       "      <th>yedi</th>\n",
       "      <td>mobilya</td>\n",
       "      <td>Koltuk</td>\n",
       "      <td>32000</td>\n",
       "      <td>30</td>\n",
       "      <td>True</td>\n",
       "    </tr>\n",
       "  </tbody>\n",
       "</table>\n",
       "</div>"
      ],
      "text/plain": [
       "       urun_kategori       urun_adi  fıyatlar  urun_miktari  indirim\n",
       "bir          Kıyafet          Kazak       105           385    False\n",
       "iki         Kozmetik         Parfüm       250           160    False\n",
       "uc          Temizlik       Deterjan       400          1200    False\n",
       "dort      elektronik        Telefon      1200           800     True\n",
       "bes   bahce ürünleri         Hortum      3650           900     True\n",
       "alti        ayakkabı  Spor ayakkabı       800          4000    False\n",
       "yedi         mobilya         Koltuk     32000            30     True"
      ]
     },
     "execution_count": 73,
     "metadata": {},
     "output_type": "execute_result"
    }
   ],
   "source": [
    "df[\"indirim\"]=df.fıyatlar>1000\n",
    "df"
   ]
  },
  {
   "cell_type": "code",
   "execution_count": 76,
   "id": "677b76f0-fd4d-4473-a933-0cc79eae1fac",
   "metadata": {},
   "outputs": [
    {
     "ename": "KeyError",
     "evalue": "'indirim'",
     "output_type": "error",
     "traceback": [
      "\u001b[1;31m---------------------------------------------------------------------------\u001b[0m",
      "\u001b[1;31mKeyError\u001b[0m                                  Traceback (most recent call last)",
      "File \u001b[1;32m~\\AppData\\Local\\Programs\\Python\\Python311\\Lib\\site-packages\\pandas\\core\\indexes\\base.py:3652\u001b[0m, in \u001b[0;36mIndex.get_loc\u001b[1;34m(self, key)\u001b[0m\n\u001b[0;32m   3651\u001b[0m \u001b[38;5;28;01mtry\u001b[39;00m:\n\u001b[1;32m-> 3652\u001b[0m     \u001b[38;5;28;01mreturn\u001b[39;00m \u001b[38;5;28;43mself\u001b[39;49m\u001b[38;5;241;43m.\u001b[39;49m\u001b[43m_engine\u001b[49m\u001b[38;5;241;43m.\u001b[39;49m\u001b[43mget_loc\u001b[49m\u001b[43m(\u001b[49m\u001b[43mcasted_key\u001b[49m\u001b[43m)\u001b[49m\n\u001b[0;32m   3653\u001b[0m \u001b[38;5;28;01mexcept\u001b[39;00m \u001b[38;5;167;01mKeyError\u001b[39;00m \u001b[38;5;28;01mas\u001b[39;00m err:\n",
      "File \u001b[1;32m~\\AppData\\Local\\Programs\\Python\\Python311\\Lib\\site-packages\\pandas\\_libs\\index.pyx:147\u001b[0m, in \u001b[0;36mpandas._libs.index.IndexEngine.get_loc\u001b[1;34m()\u001b[0m\n",
      "File \u001b[1;32m~\\AppData\\Local\\Programs\\Python\\Python311\\Lib\\site-packages\\pandas\\_libs\\index.pyx:176\u001b[0m, in \u001b[0;36mpandas._libs.index.IndexEngine.get_loc\u001b[1;34m()\u001b[0m\n",
      "File \u001b[1;32mpandas\\_libs\\hashtable_class_helper.pxi:7080\u001b[0m, in \u001b[0;36mpandas._libs.hashtable.PyObjectHashTable.get_item\u001b[1;34m()\u001b[0m\n",
      "File \u001b[1;32mpandas\\_libs\\hashtable_class_helper.pxi:7088\u001b[0m, in \u001b[0;36mpandas._libs.hashtable.PyObjectHashTable.get_item\u001b[1;34m()\u001b[0m\n",
      "\u001b[1;31mKeyError\u001b[0m: 'indirim'",
      "\nThe above exception was the direct cause of the following exception:\n",
      "\u001b[1;31mKeyError\u001b[0m                                  Traceback (most recent call last)",
      "Cell \u001b[1;32mIn[76], line 1\u001b[0m\n\u001b[1;32m----> 1\u001b[0m \u001b[38;5;28;01mdel\u001b[39;00m \u001b[43mdf\u001b[49m\u001b[43m[\u001b[49m\u001b[38;5;124;43m\"\u001b[39;49m\u001b[38;5;124;43mindirim\u001b[39;49m\u001b[38;5;124;43m\"\u001b[39;49m\u001b[43m]\u001b[49m \u001b[38;5;66;03m#sutun silme\u001b[39;00m\n",
      "File \u001b[1;32m~\\AppData\\Local\\Programs\\Python\\Python311\\Lib\\site-packages\\pandas\\core\\generic.py:4279\u001b[0m, in \u001b[0;36mNDFrame.__delitem__\u001b[1;34m(self, key)\u001b[0m\n\u001b[0;32m   4274\u001b[0m             deleted \u001b[38;5;241m=\u001b[39m \u001b[38;5;28;01mTrue\u001b[39;00m\n\u001b[0;32m   4275\u001b[0m \u001b[38;5;28;01mif\u001b[39;00m \u001b[38;5;129;01mnot\u001b[39;00m deleted:\n\u001b[0;32m   4276\u001b[0m     \u001b[38;5;66;03m# If the above loop ran and didn't delete anything because\u001b[39;00m\n\u001b[0;32m   4277\u001b[0m     \u001b[38;5;66;03m# there was no match, this call should raise the appropriate\u001b[39;00m\n\u001b[0;32m   4278\u001b[0m     \u001b[38;5;66;03m# exception:\u001b[39;00m\n\u001b[1;32m-> 4279\u001b[0m     loc \u001b[38;5;241m=\u001b[39m \u001b[38;5;28;43mself\u001b[39;49m\u001b[38;5;241;43m.\u001b[39;49m\u001b[43maxes\u001b[49m\u001b[43m[\u001b[49m\u001b[38;5;241;43m-\u001b[39;49m\u001b[38;5;241;43m1\u001b[39;49m\u001b[43m]\u001b[49m\u001b[38;5;241;43m.\u001b[39;49m\u001b[43mget_loc\u001b[49m\u001b[43m(\u001b[49m\u001b[43mkey\u001b[49m\u001b[43m)\u001b[49m\n\u001b[0;32m   4280\u001b[0m     \u001b[38;5;28mself\u001b[39m\u001b[38;5;241m.\u001b[39m_mgr \u001b[38;5;241m=\u001b[39m \u001b[38;5;28mself\u001b[39m\u001b[38;5;241m.\u001b[39m_mgr\u001b[38;5;241m.\u001b[39midelete(loc)\n\u001b[0;32m   4282\u001b[0m \u001b[38;5;66;03m# delete from the caches\u001b[39;00m\n",
      "File \u001b[1;32m~\\AppData\\Local\\Programs\\Python\\Python311\\Lib\\site-packages\\pandas\\core\\indexes\\base.py:3654\u001b[0m, in \u001b[0;36mIndex.get_loc\u001b[1;34m(self, key)\u001b[0m\n\u001b[0;32m   3652\u001b[0m     \u001b[38;5;28;01mreturn\u001b[39;00m \u001b[38;5;28mself\u001b[39m\u001b[38;5;241m.\u001b[39m_engine\u001b[38;5;241m.\u001b[39mget_loc(casted_key)\n\u001b[0;32m   3653\u001b[0m \u001b[38;5;28;01mexcept\u001b[39;00m \u001b[38;5;167;01mKeyError\u001b[39;00m \u001b[38;5;28;01mas\u001b[39;00m err:\n\u001b[1;32m-> 3654\u001b[0m     \u001b[38;5;28;01mraise\u001b[39;00m \u001b[38;5;167;01mKeyError\u001b[39;00m(key) \u001b[38;5;28;01mfrom\u001b[39;00m \u001b[38;5;21;01merr\u001b[39;00m\n\u001b[0;32m   3655\u001b[0m \u001b[38;5;28;01mexcept\u001b[39;00m \u001b[38;5;167;01mTypeError\u001b[39;00m:\n\u001b[0;32m   3656\u001b[0m     \u001b[38;5;66;03m# If we have a listlike key, _check_indexing_error will raise\u001b[39;00m\n\u001b[0;32m   3657\u001b[0m     \u001b[38;5;66;03m#  InvalidIndexError. Otherwise we fall through and re-raise\u001b[39;00m\n\u001b[0;32m   3658\u001b[0m     \u001b[38;5;66;03m#  the TypeError.\u001b[39;00m\n\u001b[0;32m   3659\u001b[0m     \u001b[38;5;28mself\u001b[39m\u001b[38;5;241m.\u001b[39m_check_indexing_error(key)\n",
      "\u001b[1;31mKeyError\u001b[0m: 'indirim'"
     ]
    }
   ],
   "source": [
    "del df[\"indirim\"] #sutun silme"
   ]
  },
  {
   "cell_type": "code",
   "execution_count": 75,
   "id": "df394b99-bae9-4e2f-b033-916277de76cb",
   "metadata": {},
   "outputs": [
    {
     "data": {
      "text/html": [
       "<div>\n",
       "<style scoped>\n",
       "    .dataframe tbody tr th:only-of-type {\n",
       "        vertical-align: middle;\n",
       "    }\n",
       "\n",
       "    .dataframe tbody tr th {\n",
       "        vertical-align: top;\n",
       "    }\n",
       "\n",
       "    .dataframe thead th {\n",
       "        text-align: right;\n",
       "    }\n",
       "</style>\n",
       "<table border=\"1\" class=\"dataframe\">\n",
       "  <thead>\n",
       "    <tr style=\"text-align: right;\">\n",
       "      <th></th>\n",
       "      <th>urun_kategori</th>\n",
       "      <th>urun_adi</th>\n",
       "      <th>fıyatlar</th>\n",
       "      <th>urun_miktari</th>\n",
       "    </tr>\n",
       "  </thead>\n",
       "  <tbody>\n",
       "    <tr>\n",
       "      <th>bir</th>\n",
       "      <td>Kıyafet</td>\n",
       "      <td>Kazak</td>\n",
       "      <td>105</td>\n",
       "      <td>385</td>\n",
       "    </tr>\n",
       "    <tr>\n",
       "      <th>iki</th>\n",
       "      <td>Kozmetik</td>\n",
       "      <td>Parfüm</td>\n",
       "      <td>250</td>\n",
       "      <td>160</td>\n",
       "    </tr>\n",
       "    <tr>\n",
       "      <th>uc</th>\n",
       "      <td>Temizlik</td>\n",
       "      <td>Deterjan</td>\n",
       "      <td>400</td>\n",
       "      <td>1200</td>\n",
       "    </tr>\n",
       "    <tr>\n",
       "      <th>dort</th>\n",
       "      <td>elektronik</td>\n",
       "      <td>Telefon</td>\n",
       "      <td>1200</td>\n",
       "      <td>800</td>\n",
       "    </tr>\n",
       "    <tr>\n",
       "      <th>bes</th>\n",
       "      <td>bahce ürünleri</td>\n",
       "      <td>Hortum</td>\n",
       "      <td>3650</td>\n",
       "      <td>900</td>\n",
       "    </tr>\n",
       "    <tr>\n",
       "      <th>alti</th>\n",
       "      <td>ayakkabı</td>\n",
       "      <td>Spor ayakkabı</td>\n",
       "      <td>800</td>\n",
       "      <td>4000</td>\n",
       "    </tr>\n",
       "    <tr>\n",
       "      <th>yedi</th>\n",
       "      <td>mobilya</td>\n",
       "      <td>Koltuk</td>\n",
       "      <td>32000</td>\n",
       "      <td>30</td>\n",
       "    </tr>\n",
       "  </tbody>\n",
       "</table>\n",
       "</div>"
      ],
      "text/plain": [
       "       urun_kategori       urun_adi  fıyatlar  urun_miktari\n",
       "bir          Kıyafet          Kazak       105           385\n",
       "iki         Kozmetik         Parfüm       250           160\n",
       "uc          Temizlik       Deterjan       400          1200\n",
       "dort      elektronik        Telefon      1200           800\n",
       "bes   bahce ürünleri         Hortum      3650           900\n",
       "alti        ayakkabı  Spor ayakkabı       800          4000\n",
       "yedi         mobilya         Koltuk     32000            30"
      ]
     },
     "execution_count": 75,
     "metadata": {},
     "output_type": "execute_result"
    }
   ],
   "source": [
    "df"
   ]
  },
  {
   "cell_type": "markdown",
   "id": "5263d482-a1e4-419e-a8c5-a8a4d7acc759",
   "metadata": {},
   "source": [
    "## Seçme - Filtreleme"
   ]
  },
  {
   "cell_type": "code",
   "execution_count": 77,
   "id": "3e1464cb-5440-403e-b3c4-8586ae4d14d2",
   "metadata": {},
   "outputs": [],
   "source": [
    "import numpy as np"
   ]
  },
  {
   "cell_type": "code",
   "execution_count": 78,
   "id": "c944bb55-da9c-4b2a-9135-73680588a617",
   "metadata": {},
   "outputs": [
    {
     "data": {
      "text/plain": [
       "a    0\n",
       "b    1\n",
       "c    2\n",
       "d    3\n",
       "e    4\n",
       "dtype: int32"
      ]
     },
     "execution_count": 78,
     "metadata": {},
     "output_type": "execute_result"
    }
   ],
   "source": [
    "asd = pd.Series(np.arange(5), index=[\"a\",\"b\",\"c\",\"d\",\"e\"])\n",
    "asd"
   ]
  },
  {
   "cell_type": "code",
   "execution_count": 79,
   "id": "c88ac1e2-5516-400b-a189-9bfe8b899cbf",
   "metadata": {},
   "outputs": [
    {
     "data": {
      "text/plain": [
       "2"
      ]
     },
     "execution_count": 79,
     "metadata": {},
     "output_type": "execute_result"
    }
   ],
   "source": [
    "asd[\"c\"]"
   ]
  },
  {
   "cell_type": "code",
   "execution_count": 81,
   "id": "1c5e008b-015e-47bd-a598-2404b6b1d814",
   "metadata": {},
   "outputs": [
    {
     "data": {
      "text/plain": [
       "3"
      ]
     },
     "execution_count": 81,
     "metadata": {},
     "output_type": "execute_result"
    }
   ],
   "source": [
    "asd[3]"
   ]
  },
  {
   "cell_type": "code",
   "execution_count": 82,
   "id": "0a768913-ce33-4e35-8c7c-4429644f033f",
   "metadata": {},
   "outputs": [
    {
     "data": {
      "text/plain": [
       "a    0\n",
       "b    1\n",
       "c    2\n",
       "dtype: int32"
      ]
     },
     "execution_count": 82,
     "metadata": {},
     "output_type": "execute_result"
    }
   ],
   "source": [
    "asd[0:3]"
   ]
  },
  {
   "cell_type": "code",
   "execution_count": 83,
   "id": "2ec5cf8f-72cd-47f2-b3eb-265cd1e24f3c",
   "metadata": {},
   "outputs": [
    {
     "data": {
      "text/plain": [
       "a    0\n",
       "c    2\n",
       "dtype: int32"
      ]
     },
     "execution_count": 83,
     "metadata": {},
     "output_type": "execute_result"
    }
   ],
   "source": [
    "asd[[\"a\",\"c\"]]"
   ]
  },
  {
   "cell_type": "code",
   "execution_count": 84,
   "id": "2224af92-f489-41c8-888c-e791ee0541c0",
   "metadata": {},
   "outputs": [
    {
     "data": {
      "text/plain": [
       "a    0\n",
       "c    2\n",
       "dtype: int32"
      ]
     },
     "execution_count": 84,
     "metadata": {},
     "output_type": "execute_result"
    }
   ],
   "source": [
    "asd[[0,2]]"
   ]
  },
  {
   "cell_type": "code",
   "execution_count": 85,
   "id": "1525c32f-a8c9-40af-ae2b-740f22dfe01f",
   "metadata": {},
   "outputs": [
    {
     "data": {
      "text/plain": [
       "a    0\n",
       "b    1\n",
       "dtype: int32"
      ]
     },
     "execution_count": 85,
     "metadata": {},
     "output_type": "execute_result"
    }
   ],
   "source": [
    "asd[asd<2]"
   ]
  },
  {
   "cell_type": "code",
   "execution_count": 86,
   "id": "9d7f8190-3402-41b3-9a27-828cb4b38d83",
   "metadata": {},
   "outputs": [
    {
     "data": {
      "text/plain": [
       "a    0\n",
       "b    1\n",
       "c    2\n",
       "dtype: int32"
      ]
     },
     "execution_count": 86,
     "metadata": {},
     "output_type": "execute_result"
    }
   ],
   "source": [
    "asd[\"a\":\"c\"]"
   ]
  },
  {
   "cell_type": "code",
   "execution_count": 87,
   "id": "084cbb6f-06aa-41ab-bfd4-f26028f90498",
   "metadata": {},
   "outputs": [],
   "source": [
    "asd[\"b\":\"c\"]=8"
   ]
  },
  {
   "cell_type": "code",
   "execution_count": 88,
   "id": "f083e101-b800-4963-84f0-aefed7991c64",
   "metadata": {},
   "outputs": [
    {
     "data": {
      "text/plain": [
       "a    0\n",
       "b    8\n",
       "c    8\n",
       "d    3\n",
       "e    4\n",
       "dtype: int32"
      ]
     },
     "execution_count": 88,
     "metadata": {},
     "output_type": "execute_result"
    }
   ],
   "source": [
    "asd"
   ]
  },
  {
   "cell_type": "code",
   "execution_count": 89,
   "id": "1011bc19-0412-4598-a8ab-e2ab00a28610",
   "metadata": {},
   "outputs": [],
   "source": [
    "dtf = pd.DataFrame(np.arange(16).reshape(4,4),index=[\"Malatya\",\"Ankara\",\"Elazığ\",\"Istanbul\"],\n",
    "                  columns=[\"bir\",\"iki\",\"uc\",\"dort\"])"
   ]
  },
  {
   "cell_type": "code",
   "execution_count": 90,
   "id": "a4655df3-6e9d-4b8d-aad5-aefb3e025099",
   "metadata": {},
   "outputs": [
    {
     "data": {
      "text/html": [
       "<div>\n",
       "<style scoped>\n",
       "    .dataframe tbody tr th:only-of-type {\n",
       "        vertical-align: middle;\n",
       "    }\n",
       "\n",
       "    .dataframe tbody tr th {\n",
       "        vertical-align: top;\n",
       "    }\n",
       "\n",
       "    .dataframe thead th {\n",
       "        text-align: right;\n",
       "    }\n",
       "</style>\n",
       "<table border=\"1\" class=\"dataframe\">\n",
       "  <thead>\n",
       "    <tr style=\"text-align: right;\">\n",
       "      <th></th>\n",
       "      <th>bir</th>\n",
       "      <th>iki</th>\n",
       "      <th>uc</th>\n",
       "      <th>dort</th>\n",
       "    </tr>\n",
       "  </thead>\n",
       "  <tbody>\n",
       "    <tr>\n",
       "      <th>Malatya</th>\n",
       "      <td>0</td>\n",
       "      <td>1</td>\n",
       "      <td>2</td>\n",
       "      <td>3</td>\n",
       "    </tr>\n",
       "    <tr>\n",
       "      <th>Ankara</th>\n",
       "      <td>4</td>\n",
       "      <td>5</td>\n",
       "      <td>6</td>\n",
       "      <td>7</td>\n",
       "    </tr>\n",
       "    <tr>\n",
       "      <th>Elazığ</th>\n",
       "      <td>8</td>\n",
       "      <td>9</td>\n",
       "      <td>10</td>\n",
       "      <td>11</td>\n",
       "    </tr>\n",
       "    <tr>\n",
       "      <th>Istanbul</th>\n",
       "      <td>12</td>\n",
       "      <td>13</td>\n",
       "      <td>14</td>\n",
       "      <td>15</td>\n",
       "    </tr>\n",
       "  </tbody>\n",
       "</table>\n",
       "</div>"
      ],
      "text/plain": [
       "          bir  iki  uc  dort\n",
       "Malatya     0    1   2     3\n",
       "Ankara      4    5   6     7\n",
       "Elazığ      8    9  10    11\n",
       "Istanbul   12   13  14    15"
      ]
     },
     "execution_count": 90,
     "metadata": {},
     "output_type": "execute_result"
    }
   ],
   "source": [
    "dtf"
   ]
  },
  {
   "cell_type": "code",
   "execution_count": 91,
   "id": "1db4d0a6-ba0f-47b9-9253-c6e1679aedda",
   "metadata": {},
   "outputs": [
    {
     "data": {
      "text/plain": [
       "Malatya      1\n",
       "Ankara       5\n",
       "Elazığ       9\n",
       "Istanbul    13\n",
       "Name: iki, dtype: int32"
      ]
     },
     "execution_count": 91,
     "metadata": {},
     "output_type": "execute_result"
    }
   ],
   "source": [
    "dtf[\"iki\"]"
   ]
  },
  {
   "cell_type": "code",
   "execution_count": 92,
   "id": "037e1dfd-d7b7-403e-8cd5-ee16966178e7",
   "metadata": {},
   "outputs": [
    {
     "data": {
      "text/html": [
       "<div>\n",
       "<style scoped>\n",
       "    .dataframe tbody tr th:only-of-type {\n",
       "        vertical-align: middle;\n",
       "    }\n",
       "\n",
       "    .dataframe tbody tr th {\n",
       "        vertical-align: top;\n",
       "    }\n",
       "\n",
       "    .dataframe thead th {\n",
       "        text-align: right;\n",
       "    }\n",
       "</style>\n",
       "<table border=\"1\" class=\"dataframe\">\n",
       "  <thead>\n",
       "    <tr style=\"text-align: right;\">\n",
       "      <th></th>\n",
       "      <th>bir</th>\n",
       "      <th>iki</th>\n",
       "    </tr>\n",
       "  </thead>\n",
       "  <tbody>\n",
       "    <tr>\n",
       "      <th>Malatya</th>\n",
       "      <td>0</td>\n",
       "      <td>1</td>\n",
       "    </tr>\n",
       "    <tr>\n",
       "      <th>Ankara</th>\n",
       "      <td>4</td>\n",
       "      <td>5</td>\n",
       "    </tr>\n",
       "    <tr>\n",
       "      <th>Elazığ</th>\n",
       "      <td>8</td>\n",
       "      <td>9</td>\n",
       "    </tr>\n",
       "    <tr>\n",
       "      <th>Istanbul</th>\n",
       "      <td>12</td>\n",
       "      <td>13</td>\n",
       "    </tr>\n",
       "  </tbody>\n",
       "</table>\n",
       "</div>"
      ],
      "text/plain": [
       "          bir  iki\n",
       "Malatya     0    1\n",
       "Ankara      4    5\n",
       "Elazığ      8    9\n",
       "Istanbul   12   13"
      ]
     },
     "execution_count": 92,
     "metadata": {},
     "output_type": "execute_result"
    }
   ],
   "source": [
    "dtf[[\"bir\",\"iki\"]]"
   ]
  },
  {
   "cell_type": "code",
   "execution_count": 93,
   "id": "642b7c40-d774-4d52-b1e9-ee8d64172e33",
   "metadata": {},
   "outputs": [
    {
     "data": {
      "text/html": [
       "<div>\n",
       "<style scoped>\n",
       "    .dataframe tbody tr th:only-of-type {\n",
       "        vertical-align: middle;\n",
       "    }\n",
       "\n",
       "    .dataframe tbody tr th {\n",
       "        vertical-align: top;\n",
       "    }\n",
       "\n",
       "    .dataframe thead th {\n",
       "        text-align: right;\n",
       "    }\n",
       "</style>\n",
       "<table border=\"1\" class=\"dataframe\">\n",
       "  <thead>\n",
       "    <tr style=\"text-align: right;\">\n",
       "      <th></th>\n",
       "      <th>bir</th>\n",
       "      <th>iki</th>\n",
       "      <th>uc</th>\n",
       "      <th>dort</th>\n",
       "    </tr>\n",
       "  </thead>\n",
       "  <tbody>\n",
       "    <tr>\n",
       "      <th>Malatya</th>\n",
       "      <td>0</td>\n",
       "      <td>1</td>\n",
       "      <td>2</td>\n",
       "      <td>3</td>\n",
       "    </tr>\n",
       "    <tr>\n",
       "      <th>Ankara</th>\n",
       "      <td>4</td>\n",
       "      <td>5</td>\n",
       "      <td>6</td>\n",
       "      <td>7</td>\n",
       "    </tr>\n",
       "    <tr>\n",
       "      <th>Elazığ</th>\n",
       "      <td>8</td>\n",
       "      <td>9</td>\n",
       "      <td>10</td>\n",
       "      <td>11</td>\n",
       "    </tr>\n",
       "  </tbody>\n",
       "</table>\n",
       "</div>"
      ],
      "text/plain": [
       "         bir  iki  uc  dort\n",
       "Malatya    0    1   2     3\n",
       "Ankara     4    5   6     7\n",
       "Elazığ     8    9  10    11"
      ]
     },
     "execution_count": 93,
     "metadata": {},
     "output_type": "execute_result"
    }
   ],
   "source": [
    "dtf[:3]"
   ]
  },
  {
   "cell_type": "code",
   "execution_count": 94,
   "id": "91a54d26-1942-45d1-80ff-26aca1d9b3c8",
   "metadata": {},
   "outputs": [
    {
     "data": {
      "text/html": [
       "<div>\n",
       "<style scoped>\n",
       "    .dataframe tbody tr th:only-of-type {\n",
       "        vertical-align: middle;\n",
       "    }\n",
       "\n",
       "    .dataframe tbody tr th {\n",
       "        vertical-align: top;\n",
       "    }\n",
       "\n",
       "    .dataframe thead th {\n",
       "        text-align: right;\n",
       "    }\n",
       "</style>\n",
       "<table border=\"1\" class=\"dataframe\">\n",
       "  <thead>\n",
       "    <tr style=\"text-align: right;\">\n",
       "      <th></th>\n",
       "      <th>bir</th>\n",
       "      <th>iki</th>\n",
       "      <th>uc</th>\n",
       "      <th>dort</th>\n",
       "    </tr>\n",
       "  </thead>\n",
       "  <tbody>\n",
       "    <tr>\n",
       "      <th>Ankara</th>\n",
       "      <td>4</td>\n",
       "      <td>5</td>\n",
       "      <td>6</td>\n",
       "      <td>7</td>\n",
       "    </tr>\n",
       "    <tr>\n",
       "      <th>Elazığ</th>\n",
       "      <td>8</td>\n",
       "      <td>9</td>\n",
       "      <td>10</td>\n",
       "      <td>11</td>\n",
       "    </tr>\n",
       "    <tr>\n",
       "      <th>Istanbul</th>\n",
       "      <td>12</td>\n",
       "      <td>13</td>\n",
       "      <td>14</td>\n",
       "      <td>15</td>\n",
       "    </tr>\n",
       "  </tbody>\n",
       "</table>\n",
       "</div>"
      ],
      "text/plain": [
       "          bir  iki  uc  dort\n",
       "Ankara      4    5   6     7\n",
       "Elazığ      8    9  10    11\n",
       "Istanbul   12   13  14    15"
      ]
     },
     "execution_count": 94,
     "metadata": {},
     "output_type": "execute_result"
    }
   ],
   "source": [
    "dtf[dtf[\"dort\"]>5]"
   ]
  },
  {
   "cell_type": "code",
   "execution_count": 95,
   "id": "5918274d-c01c-42b8-8d22-cc8a28383046",
   "metadata": {},
   "outputs": [
    {
     "data": {
      "text/html": [
       "<div>\n",
       "<style scoped>\n",
       "    .dataframe tbody tr th:only-of-type {\n",
       "        vertical-align: middle;\n",
       "    }\n",
       "\n",
       "    .dataframe tbody tr th {\n",
       "        vertical-align: top;\n",
       "    }\n",
       "\n",
       "    .dataframe thead th {\n",
       "        text-align: right;\n",
       "    }\n",
       "</style>\n",
       "<table border=\"1\" class=\"dataframe\">\n",
       "  <thead>\n",
       "    <tr style=\"text-align: right;\">\n",
       "      <th></th>\n",
       "      <th>bir</th>\n",
       "      <th>iki</th>\n",
       "      <th>uc</th>\n",
       "      <th>dort</th>\n",
       "    </tr>\n",
       "  </thead>\n",
       "  <tbody>\n",
       "    <tr>\n",
       "      <th>Malatya</th>\n",
       "      <td>23</td>\n",
       "      <td>23</td>\n",
       "      <td>23</td>\n",
       "      <td>23</td>\n",
       "    </tr>\n",
       "    <tr>\n",
       "      <th>Ankara</th>\n",
       "      <td>23</td>\n",
       "      <td>23</td>\n",
       "      <td>6</td>\n",
       "      <td>7</td>\n",
       "    </tr>\n",
       "    <tr>\n",
       "      <th>Elazığ</th>\n",
       "      <td>8</td>\n",
       "      <td>9</td>\n",
       "      <td>10</td>\n",
       "      <td>11</td>\n",
       "    </tr>\n",
       "    <tr>\n",
       "      <th>Istanbul</th>\n",
       "      <td>12</td>\n",
       "      <td>13</td>\n",
       "      <td>14</td>\n",
       "      <td>15</td>\n",
       "    </tr>\n",
       "  </tbody>\n",
       "</table>\n",
       "</div>"
      ],
      "text/plain": [
       "          bir  iki  uc  dort\n",
       "Malatya    23   23  23    23\n",
       "Ankara     23   23   6     7\n",
       "Elazığ      8    9  10    11\n",
       "Istanbul   12   13  14    15"
      ]
     },
     "execution_count": 95,
     "metadata": {},
     "output_type": "execute_result"
    }
   ],
   "source": [
    "dtf[dtf<6]=23\n",
    "dtf"
   ]
  },
  {
   "cell_type": "code",
   "execution_count": 98,
   "id": "90f29e93-1cd2-47fe-923e-d41807fadf2e",
   "metadata": {},
   "outputs": [
    {
     "data": {
      "text/plain": [
       "bir     23\n",
       "iki     23\n",
       "uc       6\n",
       "dort     7\n",
       "Name: Ankara, dtype: int32"
      ]
     },
     "execution_count": 98,
     "metadata": {},
     "output_type": "execute_result"
    }
   ],
   "source": [
    "dtf.iloc[1] # iloc metodu sayısal veriler kullanarak indeksleme yapar."
   ]
  },
  {
   "cell_type": "code",
   "execution_count": 99,
   "id": "d140828e-ba1b-467b-8f96-4232a390bcdf",
   "metadata": {},
   "outputs": [
    {
     "data": {
      "text/plain": [
       "iki     23\n",
       "uc       6\n",
       "dort     7\n",
       "Name: Ankara, dtype: int32"
      ]
     },
     "execution_count": 99,
     "metadata": {},
     "output_type": "execute_result"
    }
   ],
   "source": [
    "dtf.iloc[1,[1,2,3]]"
   ]
  },
  {
   "cell_type": "code",
   "execution_count": 100,
   "id": "4ebc2f7e-7c7c-4b19-b424-fea1fbc751ca",
   "metadata": {},
   "outputs": [
    {
     "data": {
      "text/html": [
       "<div>\n",
       "<style scoped>\n",
       "    .dataframe tbody tr th:only-of-type {\n",
       "        vertical-align: middle;\n",
       "    }\n",
       "\n",
       "    .dataframe tbody tr th {\n",
       "        vertical-align: top;\n",
       "    }\n",
       "\n",
       "    .dataframe thead th {\n",
       "        text-align: right;\n",
       "    }\n",
       "</style>\n",
       "<table border=\"1\" class=\"dataframe\">\n",
       "  <thead>\n",
       "    <tr style=\"text-align: right;\">\n",
       "      <th></th>\n",
       "      <th>iki</th>\n",
       "      <th>uc</th>\n",
       "      <th>dort</th>\n",
       "    </tr>\n",
       "  </thead>\n",
       "  <tbody>\n",
       "    <tr>\n",
       "      <th>Ankara</th>\n",
       "      <td>23</td>\n",
       "      <td>6</td>\n",
       "      <td>7</td>\n",
       "    </tr>\n",
       "    <tr>\n",
       "      <th>Istanbul</th>\n",
       "      <td>13</td>\n",
       "      <td>14</td>\n",
       "      <td>15</td>\n",
       "    </tr>\n",
       "  </tbody>\n",
       "</table>\n",
       "</div>"
      ],
      "text/plain": [
       "          iki  uc  dort\n",
       "Ankara     23   6     7\n",
       "Istanbul   13  14    15"
      ]
     },
     "execution_count": 100,
     "metadata": {},
     "output_type": "execute_result"
    }
   ],
   "source": [
    "dtf.iloc[[1,3],[1,2,3]]"
   ]
  },
  {
   "cell_type": "code",
   "execution_count": 102,
   "id": "57063eb7-7af5-479f-b227-d223e4763610",
   "metadata": {},
   "outputs": [
    {
     "data": {
      "text/plain": [
       "bir    8\n",
       "iki    9\n",
       "Name: Elazığ, dtype: int32"
      ]
     },
     "execution_count": 102,
     "metadata": {},
     "output_type": "execute_result"
    }
   ],
   "source": [
    "dtf.loc[\"Elazığ\",[\"bir\",\"iki\"]] # etiket ismi kullanarak indeksleme işlemi gerçekleştirilir."
   ]
  },
  {
   "cell_type": "code",
   "execution_count": 115,
   "id": "e9423899-eb81-4161-921c-fa197460b56c",
   "metadata": {},
   "outputs": [],
   "source": [
    "sr1=pd.Series(np.arange(5),index=[\"a\",\"b\",\"c\",\"d\",\"e\"])"
   ]
  },
  {
   "cell_type": "code",
   "execution_count": 116,
   "id": "7a1b64c3-ae42-4d04-bae1-9de28848cb56",
   "metadata": {},
   "outputs": [
    {
     "data": {
      "text/plain": [
       "a    0\n",
       "b    1\n",
       "c    2\n",
       "d    3\n",
       "e    4\n",
       "dtype: int32"
      ]
     },
     "execution_count": 116,
     "metadata": {},
     "output_type": "execute_result"
    }
   ],
   "source": [
    "sr1"
   ]
  },
  {
   "cell_type": "code",
   "execution_count": 117,
   "id": "f6eabe2c-d054-4782-9f98-2848c9322888",
   "metadata": {},
   "outputs": [
    {
     "data": {
      "text/plain": [
       "4"
      ]
     },
     "execution_count": 117,
     "metadata": {},
     "output_type": "execute_result"
    }
   ],
   "source": [
    "sr1[-1]"
   ]
  },
  {
   "cell_type": "code",
   "execution_count": null,
   "id": "5c2d7d66-10eb-491c-8794-1e98e1c5d784",
   "metadata": {},
   "outputs": [],
   "source": []
  }
 ],
 "metadata": {
  "kernelspec": {
   "display_name": "Python 3 (ipykernel)",
   "language": "python",
   "name": "python3"
  },
  "language_info": {
   "codemirror_mode": {
    "name": "ipython",
    "version": 3
   },
   "file_extension": ".py",
   "mimetype": "text/x-python",
   "name": "python",
   "nbconvert_exporter": "python",
   "pygments_lexer": "ipython3",
   "version": "3.12.0"
  }
 },
 "nbformat": 4,
 "nbformat_minor": 5
}
